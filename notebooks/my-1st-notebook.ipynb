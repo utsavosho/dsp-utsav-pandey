{
 "cells": [
  {
   "cell_type": "code",
   "execution_count": 1,
   "id": "82baa549",
   "metadata": {},
   "outputs": [
    {
     "name": "stdout",
     "output_type": "stream",
     "text": [
      "[[6 1 7 7 9 6 7 2]\n",
      " [0 4 3 4 0 6 9 9]\n",
      " [7 1 3 7 1 1 6 7]\n",
      " [4 8 9 4 9 1 4 8]\n",
      " [1 4 2 2 4 9 6 8]\n",
      " [6 1 0 7 6 1 6 9]\n",
      " [7 4 3 1 0 0 1 5]\n",
      " [9 5 3 2 6 4 1 9]\n",
      " [5 6 6 8 0 4 9 3]\n",
      " [9 8 0 4 7 5 1 3]]\n"
     ]
    }
   ],
   "source": [
    "import numpy as np\n",
    "\n",
    "data = np.random.randint(10, size=(10,8))\n",
    "\n",
    "print(data)"
   ]
  },
  {
   "cell_type": "code",
   "execution_count": null,
   "id": "ca2e5a17",
   "metadata": {},
   "outputs": [],
   "source": []
  }
 ],
 "metadata": {
  "kernelspec": {
   "display_name": "Python 3 (ipykernel)",
   "language": "python",
   "name": "python3"
  },
  "language_info": {
   "codemirror_mode": {
    "name": "ipython",
    "version": 3
   },
   "file_extension": ".py",
   "mimetype": "text/x-python",
   "name": "python",
   "nbconvert_exporter": "python",
   "pygments_lexer": "ipython3",
   "version": "3.9.11"
  }
 },
 "nbformat": 4,
 "nbformat_minor": 5
}
