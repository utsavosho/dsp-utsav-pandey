{
 "cells": [
  {
   "cell_type": "code",
   "execution_count": 2,
   "id": "82baa549",
   "metadata": {},
   "outputs": [
    {
     "name": "stdout",
     "output_type": "stream",
     "text": [
      "[[2 6 9 8 2 6 5 9]\n",
      " [7 0 1 9 6 2 5 0]\n",
      " [7 2 3 2 6 4 0 5]\n",
      " [0 5 5 4 0 5 0 9]\n",
      " [1 9 3 2 3 0 8 8]\n",
      " [4 6 6 1 7 2 4 8]\n",
      " [9 8 2 2 5 2 7 0]\n",
      " [8 6 4 2 0 1 2 5]\n",
      " [0 4 1 8 4 3 3 2]\n",
      " [5 1 5 8 5 2 0 7]]\n"
     ]
    }
   ],
   "source": [
    "import numpy as np\n",
    "\n",
    "data = np.random.randint(10, size=(10,8))\n",
    "\n",
    "print(data)"
   ]
  },
  {
   "cell_type": "code",
   "execution_count": null,
   "id": "ca2e5a17",
   "metadata": {},
   "outputs": [],
   "source": []
  }
 ],
 "metadata": {
  "kernelspec": {
   "display_name": "Python 3 (ipykernel)",
   "language": "python",
   "name": "python3"
  },
  "language_info": {
   "codemirror_mode": {
    "name": "ipython",
    "version": 3
   },
   "file_extension": ".py",
   "mimetype": "text/x-python",
   "name": "python",
   "nbconvert_exporter": "python",
   "pygments_lexer": "ipython3",
   "version": "3.9.11"
  }
 },
 "nbformat": 4,
 "nbformat_minor": 5
}
