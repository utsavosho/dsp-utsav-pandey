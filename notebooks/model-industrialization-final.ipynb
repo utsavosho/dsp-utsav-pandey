{
 "cells": [
  {
   "cell_type": "code",
   "execution_count": 1,
   "id": "a9bc40e5",
   "metadata": {
    "ExecuteTime": {
     "end_time": "2022-05-07T19:01:16.402195Z",
     "start_time": "2022-05-07T19:01:16.378300Z"
    }
   },
   "outputs": [],
   "source": [
    "%load_ext autoreload\n",
    "%autoreload 2"
   ]
  },
  {
   "cell_type": "code",
   "execution_count": 2,
   "id": "76a05343",
   "metadata": {
    "ExecuteTime": {
     "end_time": "2022-05-07T19:01:16.414838Z",
     "start_time": "2022-05-07T19:01:16.404945Z"
    }
   },
   "outputs": [],
   "source": [
    "import sys\n",
    "sys.path.append('..')"
   ]
  },
  {
   "cell_type": "markdown",
   "id": "f5391ff7",
   "metadata": {},
   "source": [
    "## Model building"
   ]
  },
  {
   "cell_type": "code",
   "execution_count": 3,
   "id": "a2019c13",
   "metadata": {
    "ExecuteTime": {
     "end_time": "2022-05-07T19:01:16.965401Z",
     "start_time": "2022-05-07T19:01:16.416232Z"
    }
   },
   "outputs": [
    {
     "name": "stdout",
     "output_type": "stream",
     "text": [
      "{'rmsle': 0.19}\n"
     ]
    }
   ],
   "source": [
    "import pandas as pd\n",
    "from house_prices.train import build_model\n",
    "\n",
    "training_data_df = pd.read_csv('../data/train.csv')\n",
    "model_performance_dict = build_model(training_data_df)\n",
    "print(model_performance_dict)"
   ]
  },
  {
   "cell_type": "markdown",
   "id": "90ef5582",
   "metadata": {},
   "source": [
    "## Model inference"
   ]
  },
  {
   "cell_type": "code",
   "execution_count": 4,
   "id": "4ac3ba62",
   "metadata": {
    "ExecuteTime": {
     "end_time": "2022-05-07T19:01:17.016147Z",
     "start_time": "2022-05-07T19:01:16.966881Z"
    }
   },
   "outputs": [
    {
     "data": {
      "text/plain": [
       "array([[116298.19120918],\n",
       "       [155467.33652598],\n",
       "       [158468.59709445],\n",
       "       ...,\n",
       "       [135168.44104597],\n",
       "       [120555.50367236],\n",
       "       [227223.743325  ]])"
      ]
     },
     "execution_count": 4,
     "metadata": {},
     "output_type": "execute_result"
    }
   ],
   "source": [
    "import pandas as pd\n",
    "from house_prices.inference import make_predictions\n",
    "\n",
    "user_data_df = pd.read_csv('../data/test.csv')\n",
    "predictions = make_predictions(user_data_df)\n",
    "predictions"
   ]
  }
 ],
 "metadata": {
  "kernelspec": {
   "display_name": "Python 3 (ipykernel)",
   "language": "python",
   "name": "python3"
  },
  "language_info": {
   "codemirror_mode": {
    "name": "ipython",
    "version": 3
   },
   "file_extension": ".py",
   "mimetype": "text/x-python",
   "name": "python",
   "nbconvert_exporter": "python",
   "pygments_lexer": "ipython3",
   "version": "3.9.11"
  }
 },
 "nbformat": 4,
 "nbformat_minor": 5
}
